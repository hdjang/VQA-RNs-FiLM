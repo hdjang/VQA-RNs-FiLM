{
 "cells": [
  {
   "cell_type": "code",
   "execution_count": 7,
   "metadata": {},
   "outputs": [],
   "source": [
    "import torch\n",
    "import torch.nn as nn\n",
    "import numpy as np\n",
    "import argparse\n",
    "from dataset import get_dataset\n",
    "import torch\n",
    "import torch.nn as nn\n",
    "from torch.autograd import Variable\n",
    "from torchvision import transforms\n",
    "from torch.utils.data import Dataset, DataLoader\n",
    "\n",
    "import matplotlib.pyplot as plt\n",
    "%matplotlib inline"
   ]
  },
  {
   "cell_type": "code",
   "execution_count": 2,
   "metadata": {},
   "outputs": [],
   "source": [
    "class Namespace:\n",
    "    def __init__(self, **kwargs):\n",
    "        self.__dict__.update(kwargs)\n",
    "        \n",
    "args = Namespace(data_dir='./data/sort-of-clevr.pickle', batch_size=64, num_workers=20, no_img_norm=False)"
   ]
  },
  {
   "cell_type": "code",
   "execution_count": 3,
   "metadata": {},
   "outputs": [
    {
     "name": "stdout",
     "output_type": "stream",
     "text": [
      "train-dataset loaded. 180000 rel+nonrel samples\n",
      "val-dataset loaded. 10000/10000 rel/nonrel samples\n"
     ]
    }
   ],
   "source": [
    "train_set, val_set = get_dataset(args)"
   ]
  },
  {
   "cell_type": "code",
   "execution_count": 12,
   "metadata": {},
   "outputs": [
    {
     "name": "stdout",
     "output_type": "stream",
     "text": [
      "torch.Size([3, 75, 75])\n",
      "tensor([0., 1., 0., 0., 0., 0., 0., 1., 0., 0., 1.])\n",
      "tensor(8)\n",
      "torch.Size([3, 75, 75])\n",
      "tensor([1., 0., 0., 0., 0., 0., 0., 1., 1., 0., 0.])\n",
      "tensor(2)\n",
      "torch.Size([3, 75, 75])\n",
      "tensor([0., 0., 1., 0., 0., 0., 0., 1., 0., 0., 1.])\n",
      "tensor(4)\n"
     ]
    },
    {
     "data": {
      "image/png": "[encoded data removed]",
      "text/plain": [
       "<Figure size 432x288 with 1 Axes>"
      ]
     },
     "metadata": {},
     "output_type": "display_data"
    }
   ],
   "source": [
    "for i, data in enumerate(val_set):\n",
    "    img_rel = data[0][0]\n",
    "    qst_rel = data[1][0]\n",
    "    ans_rel = data[2][0]\n",
    "    img_nonrel = data[0][1]\n",
    "    qst_nonrel = data[1][1]\n",
    "    ans_nonrel = data[2][1]\n",
    "    \n",
    "    plt.imshow(img_rel.permute(1,2,0))\n",
    "    print(img_rel.shape)\n",
    "    print(qst_rel)\n",
    "    print(ans_rel)\n",
    "    \n",
    "    if i == 2:\n",
    "        break\n",
    "    "
   ]
  },
  {
   "cell_type": "code",
   "execution_count": null,
   "metadata": {},
   "outputs": [],
   "source": []
  }
 ],
 "metadata": {
  "kernelspec": {
   "display_name": "Python 3",
   "language": "python",
   "name": "python3"
  },
  "language_info": {
   "codemirror_mode": {
    "name": "ipython",
    "version": 3
   },
   "file_extension": ".py",
   "mimetype": "text/x-python",
   "name": "python",
   "nbconvert_exporter": "python",
   "pygments_lexer": "ipython3",
   "version": "3.6.4"
  }
 },
 "nbformat": 4,
 "nbformat_minor": 2
}
